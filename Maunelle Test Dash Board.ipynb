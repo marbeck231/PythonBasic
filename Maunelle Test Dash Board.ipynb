{
 "cells": [
  {
   "cell_type": "code",
   "execution_count": 1,
   "metadata": {},
   "outputs": [],
   "source": [
    "# Import required libraries\n",
    "import pandas as pd\n",
    "import dash\n",
    "import dash_html_components as html\n",
    "import dash_core_components as dcc\n",
    "from dash.dependencies import Input, Output, State\n",
    "from jupyter_dash import JupyterDash\n",
    "import plotly.graph_objects as go\n",
    "import plotly.express as px\n",
    "from dash import no_update"
   ]
  },
  {
   "cell_type": "code",
   "execution_count": 2,
   "metadata": {},
   "outputs": [
    {
     "data": {
      "text/plain": [
       "'C:\\\\Users\\\\C571146\\\\coursera\\\\Applied Data Science Capstone'"
      ]
     },
     "execution_count": 2,
     "metadata": {},
     "output_type": "execute_result"
    }
   ],
   "source": [
    "pwd"
   ]
  },
  {
   "cell_type": "code",
   "execution_count": 3,
   "metadata": {},
   "outputs": [],
   "source": [
    "spacex_df = pd.read_csv(\"spacex_launch_dash.csv\")"
   ]
  },
  {
   "cell_type": "markdown",
   "metadata": {},
   "source": [
    "# check online with following Line:\n",
    "# dash chart does not take values from options site"
   ]
  },
  {
   "cell_type": "code",
   "execution_count": 7,
   "metadata": {},
   "outputs": [
    {
     "name": "stderr",
     "output_type": "stream",
     "text": [
      "C:\\Users\\C571146\\.conda\\envs\\Python36\\lib\\site-packages\\jupyter_dash\\jupyter_app.py:139: UserWarning:\n",
      "\n",
      "The 'environ['werkzeug.server.shutdown']' function is deprecated and will be removed in Werkzeug 2.1.\n",
      "\n",
      "127.0.0.1 - - [30/Aug/2021 11:09:20] \"GET /_shutdown_b9047f03-9164-4922-babf-9ac226db46d0 HTTP/1.1\" 200 -\n",
      " * Running on http://localhost:8030/ (Press CTRL+C to quit)\n",
      "127.0.0.1 - - [30/Aug/2021 11:09:22] \"GET /_alive_b9047f03-9164-4922-babf-9ac226db46d0 HTTP/1.1\" 200 -\n"
     ]
    },
    {
     "data": {
      "text/html": [
       "\n",
       "        <iframe\n",
       "            width=\"100%\"\n",
       "            height=\"650\"\n",
       "            src=\"http://localhost:8030/\"\n",
       "            frameborder=\"0\"\n",
       "            allowfullscreen\n",
       "        ></iframe>\n",
       "        "
      ],
      "text/plain": [
       "<IPython.lib.display.IFrame at 0x2ab47cee208>"
      ]
     },
     "metadata": {},
     "output_type": "display_data"
    }
   ],
   "source": [
    "\n",
    "# Read the airline data into pandas dataframe\n",
    "spacex_df = pd.read_csv(\"spacex_launch_dash.csv\")\n",
    "max_payload = spacex_df['Payload Mass (kg)'].max()\n",
    "min_payload = spacex_df['Payload Mass (kg)'].min()\n",
    "\n",
    "\n",
    "# Specific for Jupyter Notebook\n",
    "app = JupyterDash(__name__)\n",
    "JupyterDash.infer_jupyter_proxy_config()\n",
    "\n",
    "# REVIEW1: Clear the layout and do not display exception till callback gets executed\n",
    "app.config.suppress_callback_exceptions = True\n",
    "\n",
    "# load Base Data \n",
    "data = spacex_df\n",
    "\n",
    "# create Marker List\n",
    "Marker_List = {0:0,1000:1000,2000:2000,3000:3000,4000:4000,5000:5000,6000:6000,7000:7000,8000:8000,9000:9000,9600:9600}\n",
    "\n",
    "#Convert site into list\n",
    "Site_list = spacex_df.groupby(['Launch Site']).size().reset_index(name='class count')\n",
    "Site_list = list(Site_list[\"Launch Site\"])\n",
    "\n",
    "# Create an app layout\n",
    "app.layout = html.Div(children=[html.H1('SpaceX Launch Records Dashboard',\n",
    "                                        style={'textAlign': 'center', 'color': '#503D36',\n",
    "                                               'font-size': 40}),\n",
    "                                # TASK 1: Add a dropdown list to enable Launch Site selection\n",
    "                                # The default select value is for ALL sites\n",
    "                                # dcc.Dropdown(id='site-dropdown',...)\n",
    "                                html.Div([\n",
    "                                    dcc.Dropdown(\n",
    "                                        id='site-dropdown',\n",
    "#                                       value='CCAFS LC-40', #this works nad gnerates graphs\n",
    "#                                        options=[{'label': i, 'value': i} for i in Site_list], #this does not Work Why and the individual options do not work\n",
    "                                        options=[{'label': 'ALL', 'value': 'ALL'},\n",
    "                                        {'label': 'CCAFS LC-40','value':'CCAFS LC-40'},\n",
    "                                        {'label': 'CCAFS SLC-40','value':'CCAFS SLC-40'},\n",
    "                                        {'label': 'KSC LC-39A','value':'KSC LC-39A'},\n",
    "                                        {'label': 'VAFB SLC-4E','value':'VAFB SLC-4E'}],\n",
    "                                        value='ALL',\n",
    "                                        placeholder=\"Select a Launch Site here\",\n",
    "                                        multi=True,\n",
    "                                        searchable=True),\n",
    "                                            ]),\n",
    "                                    \n",
    "                                html.Br(),\n",
    "\n",
    "                                # TASK 2: Add a pie chart to show the total successful launches count for all sites\n",
    "                                # If a specific launch site was selected, show the Success vs. Failed counts for the site\n",
    "                                html.Div(dcc.Graph(id='success-pie-chart',animate=True)),\n",
    "                                \n",
    "                                html.P(\"Payload range (Kg):\"),\n",
    "                                # TASK 3: Add a slider to select payload range\n",
    "                                dcc.RangeSlider(id='payload-slider',\n",
    "                                                min=0,\n",
    "                                                max=10000,\n",
    "                                                step=1000,\n",
    "                                                marks = Marker_List,\n",
    "                                                value=[min_payload, max_payload]),\n",
    "                                \n",
    "                                \n",
    "                                # TASK 4: Add a scatter chart to show the correlation between payload and launch success\n",
    "                                html.Div(dcc.Graph(id='success-payload-scatter-chart')),\n",
    "\n",
    "                                html.Div(id='result')\n",
    "                               \n",
    "                               \n",
    "                               ])\n",
    "# TASK 2:\n",
    "# Add a callback function for `site-dropdown` as input, `success-pie-chart` as output\n",
    "\n",
    "\n",
    "@app.callback(Output(component_id='result', component_property='children'),\n",
    "                Input(component_id='site-dropdown', component_property='value'))\n",
    "\n",
    "\n",
    "def update_result(site_dropdown):\n",
    "    return (site_dropdown)\n",
    "\n",
    "@app.callback(Output(component_id='success-pie-chart', component_property='figure'),\n",
    "               Input(component_id='site-dropdown', component_property='value'))\n",
    "\n",
    "def pie(site_dropdown):\n",
    "    data_filtered = spacex_df.groupby(['Launch Site','class']).size().reset_index(name='class count')\n",
    "    data_grouped = data_filtered[data_filtered['class']==1]\n",
    "    if site_dropdown == 'ALL':\n",
    "        title_pie = f\"Success Launches for site {site_dropdown}\"\n",
    "        fig = px.pie(data_grouped, values='class count', names='Launch Site', title=title_pie)\n",
    "    else:\n",
    "        title_pie = f\"Success Launches for site single {site_dropdown}\"\n",
    "        filtered_DD= data[data['Launch Site'] == site_dropdown]\n",
    "        filtered_LS = filtered_DD.groupby(['Launch Site','class']).size().reset_index(name='class count')\n",
    "        fig = px.pie(filtered_LS, values='class count', names='class', title=title_pie)\n",
    "    return fig\n",
    "\n",
    "\n",
    "# TASK 4:\n",
    "# Add a callback function for `site-dropdown` and `payload-slider` as inputs, `success-payload-scatter-chart` as output\n",
    "@app.callback(Output(component_id='success-payload-scatter-chart', component_property='figure'),\n",
    "              [Input(component_id='site-dropdown', component_property='value'),\n",
    "               Input(component_id='payload-slider', component_property='value')])\n",
    "\n",
    "\n",
    "\n",
    "def build_scatter(site,payload):\n",
    "    low,high = (payload[0], payload[1])\n",
    "    df = spacex_df\n",
    "    filtered_Spa = spacex_df[spacex_df['Payload Mass (kg)'].between(low,high)]\n",
    "    if site == 'ALL':\n",
    "        title_sca = 'Payload vs. Outcome for ALL'\n",
    "        fig = px.scatter(filtered_Spa,x=\"Payload Mass (kg)\", y=\"class\", color=\"Booster Version Category\", title='Payload vs. Outcome for All Sites')\n",
    "    else:\n",
    "        title_sca = ('Payload vs. Outcome for single launch site')\n",
    "        filtered_sit= filtered_Spa[filtered_Spa['Launch Site'] == site]\n",
    "        fig = px.scatter(filtered_sit,x=\"Payload Mass (kg)\", y=\"class\", color=\"Booster Version Category\", title=title_sca)\n",
    "    return fig\n",
    " \n",
    "\n",
    "\n",
    "\n",
    "    \n",
    "if __name__ == '__main__':\n",
    "    # REVIEW8: Adding dev_tools_ui=False, dev_tools_props_check=False can prevent error appearing before calling callback function\n",
    "    app.run_server(mode=\"inline\", host=\"localhost\",port=8030, debug=False, dev_tools_ui=False, dev_tools_props_check=False)\n"
   ]
  },
  {
   "cell_type": "code",
   "execution_count": null,
   "metadata": {},
   "outputs": [],
   "source": [
    "def pie(site_dropdown):\n",
    "    data = spacex_df\n",
    "    data_filtered = spacex_df.groupby(['Launch Site','class']).size().reset_index(name='class count')\n",
    "    data_grouped = data_filtered[data_filtered['class']==1]\n",
    "    if site_dropdown == 'ALL':\n",
    "        title_pie = f\"Success Launches for site {site_dropdown}\"\n",
    "        fig = px.pie(data_grouped, values='class count', names='Launch Site', title=title_pie)\n",
    "        \n",
    "        \n",
    "    else:\n",
    "        title_pie = f\"Success Launches for site single {site_dropdown}\"\n",
    "        filtered_DD= data[data['Launch Site'] == site_dropdown]\n",
    "        filtered_LS = filtered_DD.groupby(['Launch Site','class']).size().reset_index(name='class count')\n",
    "        fig = px.pie(filtered_LS, values='class count', names='class', title=title_pie)\n",
    "    return fig"
   ]
  },
  {
   "cell_type": "code",
   "execution_count": null,
   "metadata": {},
   "outputs": [],
   "source": [
    "#pie('ALL')\n",
    "pie('CCAFS LC-40')"
   ]
  },
  {
   "cell_type": "code",
   "execution_count": null,
   "metadata": {},
   "outputs": [],
   "source": [
    "data.head(5)"
   ]
  },
  {
   "cell_type": "code",
   "execution_count": null,
   "metadata": {},
   "outputs": [],
   "source": [
    "site_dropdown = 'CCAFS LC-40'\n",
    "filtered_DD= data[data['Launch Site'] == site_dropdown]\n",
    "filtered_LS = filtered_DD.groupby(['Launch Site','class']).size().reset_index(name='class count')\n",
    "filtered_LS"
   ]
  },
  {
   "cell_type": "code",
   "execution_count": 53,
   "metadata": {},
   "outputs": [],
   "source": [
    "site = 'ALL'\n",
    "payload = [0,9600]\n",
    "def build_scatter(site,payload):\n",
    "    low,high = (payload[0], payload[1])\n",
    "    df = spacex_df\n",
    "    filtered_Spa = spacex_df[spacex_df['Payload Mass (kg)'].between(low,high)]\n",
    "    if site == 'ALL':\n",
    "        title_sca = 'Payload vs. Outcome for ALL'\n",
    "        fig = px.scatter(filtered_Spa,x=\"Payload Mass (kg)\", y=\"class\", color=\"Booster Version Category\", title='Payload vs. Outcome for All Sites')\n",
    "    else:\n",
    "        title_sca = ('Payload vs. Outcome for single launch site')\n",
    "        filtered_sit= filtered_Spa[filtered_Spa['Launch Site'] == site]\n",
    "        fig = px.scatter(filtered_sit,x=\"Payload Mass (kg)\", y=\"class\", color=\"Booster Version Category\", title=title_sca)\n",
    "    return fig"
   ]
  },
  {
   "cell_type": "code",
   "execution_count": 56,
   "metadata": {},
   "outputs": [
    {
     "data": {
      "application/vnd.plotly.v1+json": {
       "config": {
        "plotlyServerURL": "https://plot.ly"
       },
       "data": [
        {
         "hovertemplate": "Booster Version Category=v1.0<br>Payload Mass (kg)=%{x}<br>class=%{y}<extra></extra>",
         "legendgroup": "v1.0",
         "marker": {
          "color": "#636efa",
          "symbol": "circle"
         },
         "mode": "markers",
         "name": "v1.0",
         "orientation": "v",
         "showlegend": true,
         "type": "scatter",
         "x": [
          0,
          0,
          525,
          500,
          677
         ],
         "xaxis": "x",
         "y": [
          0,
          0,
          0,
          0,
          0
         ],
         "yaxis": "y"
        },
        {
         "hovertemplate": "Booster Version Category=v1.1<br>Payload Mass (kg)=%{x}<br>class=%{y}<extra></extra>",
         "legendgroup": "v1.1",
         "marker": {
          "color": "#EF553B",
          "symbol": "circle"
         },
         "mode": "markers",
         "name": "v1.1",
         "orientation": "v",
         "showlegend": true,
         "type": "scatter",
         "x": [
          3170,
          3325,
          2296,
          1316,
          4535,
          4428,
          2216,
          2395,
          570,
          4159,
          1898,
          4707,
          1952
         ],
         "xaxis": "x",
         "y": [
          0,
          0,
          0,
          0,
          0,
          0,
          0,
          0,
          0,
          0,
          0,
          0,
          1
         ],
         "yaxis": "y"
        },
        {
         "hovertemplate": "Booster Version Category=FT<br>Payload Mass (kg)=%{x}<br>class=%{y}<extra></extra>",
         "legendgroup": "FT",
         "marker": {
          "color": "#00cc96",
          "symbol": "circle"
         },
         "mode": "markers",
         "name": "FT",
         "orientation": "v",
         "showlegend": true,
         "type": "scatter",
         "x": [
          2034,
          3136,
          4696,
          3100,
          3600,
          2257,
          4600
         ],
         "xaxis": "x",
         "y": [
          1,
          1,
          1,
          1,
          0,
          1,
          1
         ],
         "yaxis": "y"
        }
       ],
       "layout": {
        "legend": {
         "title": {
          "text": "Booster Version Category"
         },
         "tracegroupgap": 0
        },
        "template": {
         "data": {
          "bar": [
           {
            "error_x": {
             "color": "#2a3f5f"
            },
            "error_y": {
             "color": "#2a3f5f"
            },
            "marker": {
             "line": {
              "color": "#E5ECF6",
              "width": 0.5
             }
            },
            "type": "bar"
           }
          ],
          "barpolar": [
           {
            "marker": {
             "line": {
              "color": "#E5ECF6",
              "width": 0.5
             }
            },
            "type": "barpolar"
           }
          ],
          "carpet": [
           {
            "aaxis": {
             "endlinecolor": "#2a3f5f",
             "gridcolor": "white",
             "linecolor": "white",
             "minorgridcolor": "white",
             "startlinecolor": "#2a3f5f"
            },
            "baxis": {
             "endlinecolor": "#2a3f5f",
             "gridcolor": "white",
             "linecolor": "white",
             "minorgridcolor": "white",
             "startlinecolor": "#2a3f5f"
            },
            "type": "carpet"
           }
          ],
          "choropleth": [
           {
            "colorbar": {
             "outlinewidth": 0,
             "ticks": ""
            },
            "type": "choropleth"
           }
          ],
          "contour": [
           {
            "colorbar": {
             "outlinewidth": 0,
             "ticks": ""
            },
            "colorscale": [
             [
              0,
              "#0d0887"
             ],
             [
              0.1111111111111111,
              "#46039f"
             ],
             [
              0.2222222222222222,
              "#7201a8"
             ],
             [
              0.3333333333333333,
              "#9c179e"
             ],
             [
              0.4444444444444444,
              "#bd3786"
             ],
             [
              0.5555555555555556,
              "#d8576b"
             ],
             [
              0.6666666666666666,
              "#ed7953"
             ],
             [
              0.7777777777777778,
              "#fb9f3a"
             ],
             [
              0.8888888888888888,
              "#fdca26"
             ],
             [
              1,
              "#f0f921"
             ]
            ],
            "type": "contour"
           }
          ],
          "contourcarpet": [
           {
            "colorbar": {
             "outlinewidth": 0,
             "ticks": ""
            },
            "type": "contourcarpet"
           }
          ],
          "heatmap": [
           {
            "colorbar": {
             "outlinewidth": 0,
             "ticks": ""
            },
            "colorscale": [
             [
              0,
              "#0d0887"
             ],
             [
              0.1111111111111111,
              "#46039f"
             ],
             [
              0.2222222222222222,
              "#7201a8"
             ],
             [
              0.3333333333333333,
              "#9c179e"
             ],
             [
              0.4444444444444444,
              "#bd3786"
             ],
             [
              0.5555555555555556,
              "#d8576b"
             ],
             [
              0.6666666666666666,
              "#ed7953"
             ],
             [
              0.7777777777777778,
              "#fb9f3a"
             ],
             [
              0.8888888888888888,
              "#fdca26"
             ],
             [
              1,
              "#f0f921"
             ]
            ],
            "type": "heatmap"
           }
          ],
          "heatmapgl": [
           {
            "colorbar": {
             "outlinewidth": 0,
             "ticks": ""
            },
            "colorscale": [
             [
              0,
              "#0d0887"
             ],
             [
              0.1111111111111111,
              "#46039f"
             ],
             [
              0.2222222222222222,
              "#7201a8"
             ],
             [
              0.3333333333333333,
              "#9c179e"
             ],
             [
              0.4444444444444444,
              "#bd3786"
             ],
             [
              0.5555555555555556,
              "#d8576b"
             ],
             [
              0.6666666666666666,
              "#ed7953"
             ],
             [
              0.7777777777777778,
              "#fb9f3a"
             ],
             [
              0.8888888888888888,
              "#fdca26"
             ],
             [
              1,
              "#f0f921"
             ]
            ],
            "type": "heatmapgl"
           }
          ],
          "histogram": [
           {
            "marker": {
             "colorbar": {
              "outlinewidth": 0,
              "ticks": ""
             }
            },
            "type": "histogram"
           }
          ],
          "histogram2d": [
           {
            "colorbar": {
             "outlinewidth": 0,
             "ticks": ""
            },
            "colorscale": [
             [
              0,
              "#0d0887"
             ],
             [
              0.1111111111111111,
              "#46039f"
             ],
             [
              0.2222222222222222,
              "#7201a8"
             ],
             [
              0.3333333333333333,
              "#9c179e"
             ],
             [
              0.4444444444444444,
              "#bd3786"
             ],
             [
              0.5555555555555556,
              "#d8576b"
             ],
             [
              0.6666666666666666,
              "#ed7953"
             ],
             [
              0.7777777777777778,
              "#fb9f3a"
             ],
             [
              0.8888888888888888,
              "#fdca26"
             ],
             [
              1,
              "#f0f921"
             ]
            ],
            "type": "histogram2d"
           }
          ],
          "histogram2dcontour": [
           {
            "colorbar": {
             "outlinewidth": 0,
             "ticks": ""
            },
            "colorscale": [
             [
              0,
              "#0d0887"
             ],
             [
              0.1111111111111111,
              "#46039f"
             ],
             [
              0.2222222222222222,
              "#7201a8"
             ],
             [
              0.3333333333333333,
              "#9c179e"
             ],
             [
              0.4444444444444444,
              "#bd3786"
             ],
             [
              0.5555555555555556,
              "#d8576b"
             ],
             [
              0.6666666666666666,
              "#ed7953"
             ],
             [
              0.7777777777777778,
              "#fb9f3a"
             ],
             [
              0.8888888888888888,
              "#fdca26"
             ],
             [
              1,
              "#f0f921"
             ]
            ],
            "type": "histogram2dcontour"
           }
          ],
          "mesh3d": [
           {
            "colorbar": {
             "outlinewidth": 0,
             "ticks": ""
            },
            "type": "mesh3d"
           }
          ],
          "parcoords": [
           {
            "line": {
             "colorbar": {
              "outlinewidth": 0,
              "ticks": ""
             }
            },
            "type": "parcoords"
           }
          ],
          "pie": [
           {
            "automargin": true,
            "type": "pie"
           }
          ],
          "scatter": [
           {
            "marker": {
             "colorbar": {
              "outlinewidth": 0,
              "ticks": ""
             }
            },
            "type": "scatter"
           }
          ],
          "scatter3d": [
           {
            "line": {
             "colorbar": {
              "outlinewidth": 0,
              "ticks": ""
             }
            },
            "marker": {
             "colorbar": {
              "outlinewidth": 0,
              "ticks": ""
             }
            },
            "type": "scatter3d"
           }
          ],
          "scattercarpet": [
           {
            "marker": {
             "colorbar": {
              "outlinewidth": 0,
              "ticks": ""
             }
            },
            "type": "scattercarpet"
           }
          ],
          "scattergeo": [
           {
            "marker": {
             "colorbar": {
              "outlinewidth": 0,
              "ticks": ""
             }
            },
            "type": "scattergeo"
           }
          ],
          "scattergl": [
           {
            "marker": {
             "colorbar": {
              "outlinewidth": 0,
              "ticks": ""
             }
            },
            "type": "scattergl"
           }
          ],
          "scattermapbox": [
           {
            "marker": {
             "colorbar": {
              "outlinewidth": 0,
              "ticks": ""
             }
            },
            "type": "scattermapbox"
           }
          ],
          "scatterpolar": [
           {
            "marker": {
             "colorbar": {
              "outlinewidth": 0,
              "ticks": ""
             }
            },
            "type": "scatterpolar"
           }
          ],
          "scatterpolargl": [
           {
            "marker": {
             "colorbar": {
              "outlinewidth": 0,
              "ticks": ""
             }
            },
            "type": "scatterpolargl"
           }
          ],
          "scatterternary": [
           {
            "marker": {
             "colorbar": {
              "outlinewidth": 0,
              "ticks": ""
             }
            },
            "type": "scatterternary"
           }
          ],
          "surface": [
           {
            "colorbar": {
             "outlinewidth": 0,
             "ticks": ""
            },
            "colorscale": [
             [
              0,
              "#0d0887"
             ],
             [
              0.1111111111111111,
              "#46039f"
             ],
             [
              0.2222222222222222,
              "#7201a8"
             ],
             [
              0.3333333333333333,
              "#9c179e"
             ],
             [
              0.4444444444444444,
              "#bd3786"
             ],
             [
              0.5555555555555556,
              "#d8576b"
             ],
             [
              0.6666666666666666,
              "#ed7953"
             ],
             [
              0.7777777777777778,
              "#fb9f3a"
             ],
             [
              0.8888888888888888,
              "#fdca26"
             ],
             [
              1,
              "#f0f921"
             ]
            ],
            "type": "surface"
           }
          ],
          "table": [
           {
            "cells": {
             "fill": {
              "color": "#EBF0F8"
             },
             "line": {
              "color": "white"
             }
            },
            "header": {
             "fill": {
              "color": "#C8D4E3"
             },
             "line": {
              "color": "white"
             }
            },
            "type": "table"
           }
          ]
         },
         "layout": {
          "annotationdefaults": {
           "arrowcolor": "#2a3f5f",
           "arrowhead": 0,
           "arrowwidth": 1
          },
          "autotypenumbers": "strict",
          "coloraxis": {
           "colorbar": {
            "outlinewidth": 0,
            "ticks": ""
           }
          },
          "colorscale": {
           "diverging": [
            [
             0,
             "#8e0152"
            ],
            [
             0.1,
             "#c51b7d"
            ],
            [
             0.2,
             "#de77ae"
            ],
            [
             0.3,
             "#f1b6da"
            ],
            [
             0.4,
             "#fde0ef"
            ],
            [
             0.5,
             "#f7f7f7"
            ],
            [
             0.6,
             "#e6f5d0"
            ],
            [
             0.7,
             "#b8e186"
            ],
            [
             0.8,
             "#7fbc41"
            ],
            [
             0.9,
             "#4d9221"
            ],
            [
             1,
             "#276419"
            ]
           ],
           "sequential": [
            [
             0,
             "#0d0887"
            ],
            [
             0.1111111111111111,
             "#46039f"
            ],
            [
             0.2222222222222222,
             "#7201a8"
            ],
            [
             0.3333333333333333,
             "#9c179e"
            ],
            [
             0.4444444444444444,
             "#bd3786"
            ],
            [
             0.5555555555555556,
             "#d8576b"
            ],
            [
             0.6666666666666666,
             "#ed7953"
            ],
            [
             0.7777777777777778,
             "#fb9f3a"
            ],
            [
             0.8888888888888888,
             "#fdca26"
            ],
            [
             1,
             "#f0f921"
            ]
           ],
           "sequentialminus": [
            [
             0,
             "#0d0887"
            ],
            [
             0.1111111111111111,
             "#46039f"
            ],
            [
             0.2222222222222222,
             "#7201a8"
            ],
            [
             0.3333333333333333,
             "#9c179e"
            ],
            [
             0.4444444444444444,
             "#bd3786"
            ],
            [
             0.5555555555555556,
             "#d8576b"
            ],
            [
             0.6666666666666666,
             "#ed7953"
            ],
            [
             0.7777777777777778,
             "#fb9f3a"
            ],
            [
             0.8888888888888888,
             "#fdca26"
            ],
            [
             1,
             "#f0f921"
            ]
           ]
          },
          "colorway": [
           "#636efa",
           "#EF553B",
           "#00cc96",
           "#ab63fa",
           "#FFA15A",
           "#19d3f3",
           "#FF6692",
           "#B6E880",
           "#FF97FF",
           "#FECB52"
          ],
          "font": {
           "color": "#2a3f5f"
          },
          "geo": {
           "bgcolor": "white",
           "lakecolor": "white",
           "landcolor": "#E5ECF6",
           "showlakes": true,
           "showland": true,
           "subunitcolor": "white"
          },
          "hoverlabel": {
           "align": "left"
          },
          "hovermode": "closest",
          "mapbox": {
           "style": "light"
          },
          "paper_bgcolor": "white",
          "plot_bgcolor": "#E5ECF6",
          "polar": {
           "angularaxis": {
            "gridcolor": "white",
            "linecolor": "white",
            "ticks": ""
           },
           "bgcolor": "#E5ECF6",
           "radialaxis": {
            "gridcolor": "white",
            "linecolor": "white",
            "ticks": ""
           }
          },
          "scene": {
           "xaxis": {
            "backgroundcolor": "#E5ECF6",
            "gridcolor": "white",
            "gridwidth": 2,
            "linecolor": "white",
            "showbackground": true,
            "ticks": "",
            "zerolinecolor": "white"
           },
           "yaxis": {
            "backgroundcolor": "#E5ECF6",
            "gridcolor": "white",
            "gridwidth": 2,
            "linecolor": "white",
            "showbackground": true,
            "ticks": "",
            "zerolinecolor": "white"
           },
           "zaxis": {
            "backgroundcolor": "#E5ECF6",
            "gridcolor": "white",
            "gridwidth": 2,
            "linecolor": "white",
            "showbackground": true,
            "ticks": "",
            "zerolinecolor": "white"
           }
          },
          "shapedefaults": {
           "line": {
            "color": "#2a3f5f"
           }
          },
          "ternary": {
           "aaxis": {
            "gridcolor": "white",
            "linecolor": "white",
            "ticks": ""
           },
           "baxis": {
            "gridcolor": "white",
            "linecolor": "white",
            "ticks": ""
           },
           "bgcolor": "#E5ECF6",
           "caxis": {
            "gridcolor": "white",
            "linecolor": "white",
            "ticks": ""
           }
          },
          "title": {
           "x": 0.05
          },
          "xaxis": {
           "automargin": true,
           "gridcolor": "white",
           "linecolor": "white",
           "ticks": "",
           "title": {
            "standoff": 15
           },
           "zerolinecolor": "white",
           "zerolinewidth": 2
          },
          "yaxis": {
           "automargin": true,
           "gridcolor": "white",
           "linecolor": "white",
           "ticks": "",
           "title": {
            "standoff": 15
           },
           "zerolinecolor": "white",
           "zerolinewidth": 2
          }
         }
        },
        "title": {
         "text": "Payload vs. Outcome for single launch site"
        },
        "xaxis": {
         "anchor": "y",
         "domain": [
          0,
          1
         ],
         "title": {
          "text": "Payload Mass (kg)"
         }
        },
        "yaxis": {
         "anchor": "x",
         "domain": [
          0,
          1
         ],
         "title": {
          "text": "class"
         }
        }
       }
      },
      "text/html": [
       "<div>                            <div id=\"80c743d8-5e44-47c2-baa9-fa0962b15327\" class=\"plotly-graph-div\" style=\"height:525px; width:100%;\"></div>            <script type=\"text/javascript\">                require([\"plotly\"], function(Plotly) {                    window.PLOTLYENV=window.PLOTLYENV || {};                                    if (document.getElementById(\"80c743d8-5e44-47c2-baa9-fa0962b15327\")) {                    Plotly.newPlot(                        \"80c743d8-5e44-47c2-baa9-fa0962b15327\",                        [{\"hovertemplate\": \"Booster Version Category=v1.0<br>Payload Mass (kg)=%{x}<br>class=%{y}<extra></extra>\", \"legendgroup\": \"v1.0\", \"marker\": {\"color\": \"#636efa\", \"symbol\": \"circle\"}, \"mode\": \"markers\", \"name\": \"v1.0\", \"orientation\": \"v\", \"showlegend\": true, \"type\": \"scatter\", \"x\": [0.0, 0.0, 525.0, 500.0, 677.0], \"xaxis\": \"x\", \"y\": [0, 0, 0, 0, 0], \"yaxis\": \"y\"}, {\"hovertemplate\": \"Booster Version Category=v1.1<br>Payload Mass (kg)=%{x}<br>class=%{y}<extra></extra>\", \"legendgroup\": \"v1.1\", \"marker\": {\"color\": \"#EF553B\", \"symbol\": \"circle\"}, \"mode\": \"markers\", \"name\": \"v1.1\", \"orientation\": \"v\", \"showlegend\": true, \"type\": \"scatter\", \"x\": [3170.0, 3325.0, 2296.0, 1316.0, 4535.0, 4428.0, 2216.0, 2395.0, 570.0, 4159.0, 1898.0, 4707.0, 1952.0], \"xaxis\": \"x\", \"y\": [0, 0, 0, 0, 0, 0, 0, 0, 0, 0, 0, 0, 1], \"yaxis\": \"y\"}, {\"hovertemplate\": \"Booster Version Category=FT<br>Payload Mass (kg)=%{x}<br>class=%{y}<extra></extra>\", \"legendgroup\": \"FT\", \"marker\": {\"color\": \"#00cc96\", \"symbol\": \"circle\"}, \"mode\": \"markers\", \"name\": \"FT\", \"orientation\": \"v\", \"showlegend\": true, \"type\": \"scatter\", \"x\": [2034.0, 3136.0, 4696.0, 3100.0, 3600.0, 2257.0, 4600.0], \"xaxis\": \"x\", \"y\": [1, 1, 1, 1, 0, 1, 1], \"yaxis\": \"y\"}],                        {\"legend\": {\"title\": {\"text\": \"Booster Version Category\"}, \"tracegroupgap\": 0}, \"template\": {\"data\": {\"bar\": [{\"error_x\": {\"color\": \"#2a3f5f\"}, \"error_y\": {\"color\": \"#2a3f5f\"}, \"marker\": {\"line\": {\"color\": \"#E5ECF6\", \"width\": 0.5}}, \"type\": \"bar\"}], \"barpolar\": [{\"marker\": {\"line\": {\"color\": \"#E5ECF6\", \"width\": 0.5}}, \"type\": \"barpolar\"}], \"carpet\": [{\"aaxis\": {\"endlinecolor\": \"#2a3f5f\", \"gridcolor\": \"white\", \"linecolor\": \"white\", \"minorgridcolor\": \"white\", \"startlinecolor\": \"#2a3f5f\"}, \"baxis\": {\"endlinecolor\": \"#2a3f5f\", \"gridcolor\": \"white\", \"linecolor\": \"white\", \"minorgridcolor\": \"white\", \"startlinecolor\": \"#2a3f5f\"}, \"type\": \"carpet\"}], \"choropleth\": [{\"colorbar\": {\"outlinewidth\": 0, \"ticks\": \"\"}, \"type\": \"choropleth\"}], \"contour\": [{\"colorbar\": {\"outlinewidth\": 0, \"ticks\": \"\"}, \"colorscale\": [[0.0, \"#0d0887\"], [0.1111111111111111, \"#46039f\"], [0.2222222222222222, \"#7201a8\"], [0.3333333333333333, \"#9c179e\"], [0.4444444444444444, \"#bd3786\"], [0.5555555555555556, \"#d8576b\"], [0.6666666666666666, \"#ed7953\"], [0.7777777777777778, \"#fb9f3a\"], [0.8888888888888888, \"#fdca26\"], [1.0, \"#f0f921\"]], \"type\": \"contour\"}], \"contourcarpet\": [{\"colorbar\": {\"outlinewidth\": 0, \"ticks\": \"\"}, \"type\": \"contourcarpet\"}], \"heatmap\": [{\"colorbar\": {\"outlinewidth\": 0, \"ticks\": \"\"}, \"colorscale\": [[0.0, \"#0d0887\"], [0.1111111111111111, \"#46039f\"], [0.2222222222222222, \"#7201a8\"], [0.3333333333333333, \"#9c179e\"], [0.4444444444444444, \"#bd3786\"], [0.5555555555555556, \"#d8576b\"], [0.6666666666666666, \"#ed7953\"], [0.7777777777777778, \"#fb9f3a\"], [0.8888888888888888, \"#fdca26\"], [1.0, \"#f0f921\"]], \"type\": \"heatmap\"}], \"heatmapgl\": [{\"colorbar\": {\"outlinewidth\": 0, \"ticks\": \"\"}, \"colorscale\": [[0.0, \"#0d0887\"], [0.1111111111111111, \"#46039f\"], [0.2222222222222222, \"#7201a8\"], [0.3333333333333333, \"#9c179e\"], [0.4444444444444444, \"#bd3786\"], [0.5555555555555556, \"#d8576b\"], [0.6666666666666666, \"#ed7953\"], [0.7777777777777778, \"#fb9f3a\"], [0.8888888888888888, \"#fdca26\"], [1.0, \"#f0f921\"]], \"type\": \"heatmapgl\"}], \"histogram\": [{\"marker\": {\"colorbar\": {\"outlinewidth\": 0, \"ticks\": \"\"}}, \"type\": \"histogram\"}], \"histogram2d\": [{\"colorbar\": {\"outlinewidth\": 0, \"ticks\": \"\"}, \"colorscale\": [[0.0, \"#0d0887\"], [0.1111111111111111, \"#46039f\"], [0.2222222222222222, \"#7201a8\"], [0.3333333333333333, \"#9c179e\"], [0.4444444444444444, \"#bd3786\"], [0.5555555555555556, \"#d8576b\"], [0.6666666666666666, \"#ed7953\"], [0.7777777777777778, \"#fb9f3a\"], [0.8888888888888888, \"#fdca26\"], [1.0, \"#f0f921\"]], \"type\": \"histogram2d\"}], \"histogram2dcontour\": [{\"colorbar\": {\"outlinewidth\": 0, \"ticks\": \"\"}, \"colorscale\": [[0.0, \"#0d0887\"], [0.1111111111111111, \"#46039f\"], [0.2222222222222222, \"#7201a8\"], [0.3333333333333333, \"#9c179e\"], [0.4444444444444444, \"#bd3786\"], [0.5555555555555556, \"#d8576b\"], [0.6666666666666666, \"#ed7953\"], [0.7777777777777778, \"#fb9f3a\"], [0.8888888888888888, \"#fdca26\"], [1.0, \"#f0f921\"]], \"type\": \"histogram2dcontour\"}], \"mesh3d\": [{\"colorbar\": {\"outlinewidth\": 0, \"ticks\": \"\"}, \"type\": \"mesh3d\"}], \"parcoords\": [{\"line\": {\"colorbar\": {\"outlinewidth\": 0, \"ticks\": \"\"}}, \"type\": \"parcoords\"}], \"pie\": [{\"automargin\": true, \"type\": \"pie\"}], \"scatter\": [{\"marker\": {\"colorbar\": {\"outlinewidth\": 0, \"ticks\": \"\"}}, \"type\": \"scatter\"}], \"scatter3d\": [{\"line\": {\"colorbar\": {\"outlinewidth\": 0, \"ticks\": \"\"}}, \"marker\": {\"colorbar\": {\"outlinewidth\": 0, \"ticks\": \"\"}}, \"type\": \"scatter3d\"}], \"scattercarpet\": [{\"marker\": {\"colorbar\": {\"outlinewidth\": 0, \"ticks\": \"\"}}, \"type\": \"scattercarpet\"}], \"scattergeo\": [{\"marker\": {\"colorbar\": {\"outlinewidth\": 0, \"ticks\": \"\"}}, \"type\": \"scattergeo\"}], \"scattergl\": [{\"marker\": {\"colorbar\": {\"outlinewidth\": 0, \"ticks\": \"\"}}, \"type\": \"scattergl\"}], \"scattermapbox\": [{\"marker\": {\"colorbar\": {\"outlinewidth\": 0, \"ticks\": \"\"}}, \"type\": \"scattermapbox\"}], \"scatterpolar\": [{\"marker\": {\"colorbar\": {\"outlinewidth\": 0, \"ticks\": \"\"}}, \"type\": \"scatterpolar\"}], \"scatterpolargl\": [{\"marker\": {\"colorbar\": {\"outlinewidth\": 0, \"ticks\": \"\"}}, \"type\": \"scatterpolargl\"}], \"scatterternary\": [{\"marker\": {\"colorbar\": {\"outlinewidth\": 0, \"ticks\": \"\"}}, \"type\": \"scatterternary\"}], \"surface\": [{\"colorbar\": {\"outlinewidth\": 0, \"ticks\": \"\"}, \"colorscale\": [[0.0, \"#0d0887\"], [0.1111111111111111, \"#46039f\"], [0.2222222222222222, \"#7201a8\"], [0.3333333333333333, \"#9c179e\"], [0.4444444444444444, \"#bd3786\"], [0.5555555555555556, \"#d8576b\"], [0.6666666666666666, \"#ed7953\"], [0.7777777777777778, \"#fb9f3a\"], [0.8888888888888888, \"#fdca26\"], [1.0, \"#f0f921\"]], \"type\": \"surface\"}], \"table\": [{\"cells\": {\"fill\": {\"color\": \"#EBF0F8\"}, \"line\": {\"color\": \"white\"}}, \"header\": {\"fill\": {\"color\": \"#C8D4E3\"}, \"line\": {\"color\": \"white\"}}, \"type\": \"table\"}]}, \"layout\": {\"annotationdefaults\": {\"arrowcolor\": \"#2a3f5f\", \"arrowhead\": 0, \"arrowwidth\": 1}, \"autotypenumbers\": \"strict\", \"coloraxis\": {\"colorbar\": {\"outlinewidth\": 0, \"ticks\": \"\"}}, \"colorscale\": {\"diverging\": [[0, \"#8e0152\"], [0.1, \"#c51b7d\"], [0.2, \"#de77ae\"], [0.3, \"#f1b6da\"], [0.4, \"#fde0ef\"], [0.5, \"#f7f7f7\"], [0.6, \"#e6f5d0\"], [0.7, \"#b8e186\"], [0.8, \"#7fbc41\"], [0.9, \"#4d9221\"], [1, \"#276419\"]], \"sequential\": [[0.0, \"#0d0887\"], [0.1111111111111111, \"#46039f\"], [0.2222222222222222, \"#7201a8\"], [0.3333333333333333, \"#9c179e\"], [0.4444444444444444, \"#bd3786\"], [0.5555555555555556, \"#d8576b\"], [0.6666666666666666, \"#ed7953\"], [0.7777777777777778, \"#fb9f3a\"], [0.8888888888888888, \"#fdca26\"], [1.0, \"#f0f921\"]], \"sequentialminus\": [[0.0, \"#0d0887\"], [0.1111111111111111, \"#46039f\"], [0.2222222222222222, \"#7201a8\"], [0.3333333333333333, \"#9c179e\"], [0.4444444444444444, \"#bd3786\"], [0.5555555555555556, \"#d8576b\"], [0.6666666666666666, \"#ed7953\"], [0.7777777777777778, \"#fb9f3a\"], [0.8888888888888888, \"#fdca26\"], [1.0, \"#f0f921\"]]}, \"colorway\": [\"#636efa\", \"#EF553B\", \"#00cc96\", \"#ab63fa\", \"#FFA15A\", \"#19d3f3\", \"#FF6692\", \"#B6E880\", \"#FF97FF\", \"#FECB52\"], \"font\": {\"color\": \"#2a3f5f\"}, \"geo\": {\"bgcolor\": \"white\", \"lakecolor\": \"white\", \"landcolor\": \"#E5ECF6\", \"showlakes\": true, \"showland\": true, \"subunitcolor\": \"white\"}, \"hoverlabel\": {\"align\": \"left\"}, \"hovermode\": \"closest\", \"mapbox\": {\"style\": \"light\"}, \"paper_bgcolor\": \"white\", \"plot_bgcolor\": \"#E5ECF6\", \"polar\": {\"angularaxis\": {\"gridcolor\": \"white\", \"linecolor\": \"white\", \"ticks\": \"\"}, \"bgcolor\": \"#E5ECF6\", \"radialaxis\": {\"gridcolor\": \"white\", \"linecolor\": \"white\", \"ticks\": \"\"}}, \"scene\": {\"xaxis\": {\"backgroundcolor\": \"#E5ECF6\", \"gridcolor\": \"white\", \"gridwidth\": 2, \"linecolor\": \"white\", \"showbackground\": true, \"ticks\": \"\", \"zerolinecolor\": \"white\"}, \"yaxis\": {\"backgroundcolor\": \"#E5ECF6\", \"gridcolor\": \"white\", \"gridwidth\": 2, \"linecolor\": \"white\", \"showbackground\": true, \"ticks\": \"\", \"zerolinecolor\": \"white\"}, \"zaxis\": {\"backgroundcolor\": \"#E5ECF6\", \"gridcolor\": \"white\", \"gridwidth\": 2, \"linecolor\": \"white\", \"showbackground\": true, \"ticks\": \"\", \"zerolinecolor\": \"white\"}}, \"shapedefaults\": {\"line\": {\"color\": \"#2a3f5f\"}}, \"ternary\": {\"aaxis\": {\"gridcolor\": \"white\", \"linecolor\": \"white\", \"ticks\": \"\"}, \"baxis\": {\"gridcolor\": \"white\", \"linecolor\": \"white\", \"ticks\": \"\"}, \"bgcolor\": \"#E5ECF6\", \"caxis\": {\"gridcolor\": \"white\", \"linecolor\": \"white\", \"ticks\": \"\"}}, \"title\": {\"x\": 0.05}, \"xaxis\": {\"automargin\": true, \"gridcolor\": \"white\", \"linecolor\": \"white\", \"ticks\": \"\", \"title\": {\"standoff\": 15}, \"zerolinecolor\": \"white\", \"zerolinewidth\": 2}, \"yaxis\": {\"automargin\": true, \"gridcolor\": \"white\", \"linecolor\": \"white\", \"ticks\": \"\", \"title\": {\"standoff\": 15}, \"zerolinecolor\": \"white\", \"zerolinewidth\": 2}}}, \"title\": {\"text\": \"Payload vs. Outcome for single launch site\"}, \"xaxis\": {\"anchor\": \"y\", \"domain\": [0.0, 1.0], \"title\": {\"text\": \"Payload Mass (kg)\"}}, \"yaxis\": {\"anchor\": \"x\", \"domain\": [0.0, 1.0], \"title\": {\"text\": \"class\"}}},                        {\"responsive\": true}                    ).then(function(){\n",
       "                            \n",
       "var gd = document.getElementById('80c743d8-5e44-47c2-baa9-fa0962b15327');\n",
       "var x = new MutationObserver(function (mutations, observer) {{\n",
       "        var display = window.getComputedStyle(gd).display;\n",
       "        if (!display || display === 'none') {{\n",
       "            console.log([gd, 'removed!']);\n",
       "            Plotly.purge(gd);\n",
       "            observer.disconnect();\n",
       "        }}\n",
       "}});\n",
       "\n",
       "// Listen for the removal of the full notebook cells\n",
       "var notebookContainer = gd.closest('#notebook-container');\n",
       "if (notebookContainer) {{\n",
       "    x.observe(notebookContainer, {childList: true});\n",
       "}}\n",
       "\n",
       "// Listen for the clearing of the current output cell\n",
       "var outputEl = gd.closest('.output');\n",
       "if (outputEl) {{\n",
       "    x.observe(outputEl, {childList: true});\n",
       "}}\n",
       "\n",
       "                        })                };                });            </script>        </div>"
      ]
     },
     "metadata": {},
     "output_type": "display_data"
    }
   ],
   "source": [
    "site_in = 'ALL'\n",
    "payload_in = [0,5000]\n",
    "site_sing = ('CCAFS LC-40')\n",
    "build_scatter(site_sing,payload_in)"
   ]
  },
  {
   "cell_type": "code",
   "execution_count": 22,
   "metadata": {},
   "outputs": [
    {
     "data": {
      "text/html": [
       "<div>\n",
       "<style scoped>\n",
       "    .dataframe tbody tr th:only-of-type {\n",
       "        vertical-align: middle;\n",
       "    }\n",
       "\n",
       "    .dataframe tbody tr th {\n",
       "        vertical-align: top;\n",
       "    }\n",
       "\n",
       "    .dataframe thead th {\n",
       "        text-align: right;\n",
       "    }\n",
       "</style>\n",
       "<table border=\"1\" class=\"dataframe\">\n",
       "  <thead>\n",
       "    <tr style=\"text-align: right;\">\n",
       "      <th></th>\n",
       "      <th>Unnamed: 0</th>\n",
       "      <th>Flight Number</th>\n",
       "      <th>Launch Site</th>\n",
       "      <th>Mission Outcome</th>\n",
       "      <th>class</th>\n",
       "      <th>Payload Mass (kg)</th>\n",
       "      <th>Booster Version</th>\n",
       "      <th>Booster Version Category</th>\n",
       "    </tr>\n",
       "  </thead>\n",
       "  <tbody>\n",
       "    <tr>\n",
       "      <th>0</th>\n",
       "      <td>0</td>\n",
       "      <td>1</td>\n",
       "      <td>CCAFS LC-40</td>\n",
       "      <td>Success</td>\n",
       "      <td>0</td>\n",
       "      <td>0.0</td>\n",
       "      <td>F9 v1.0  B0003</td>\n",
       "      <td>v1.0</td>\n",
       "    </tr>\n",
       "    <tr>\n",
       "      <th>1</th>\n",
       "      <td>1</td>\n",
       "      <td>2</td>\n",
       "      <td>CCAFS LC-40</td>\n",
       "      <td>Success</td>\n",
       "      <td>0</td>\n",
       "      <td>0.0</td>\n",
       "      <td>F9 v1.0  B0004</td>\n",
       "      <td>v1.0</td>\n",
       "    </tr>\n",
       "    <tr>\n",
       "      <th>2</th>\n",
       "      <td>2</td>\n",
       "      <td>3</td>\n",
       "      <td>CCAFS LC-40</td>\n",
       "      <td>Success</td>\n",
       "      <td>0</td>\n",
       "      <td>525.0</td>\n",
       "      <td>F9 v1.0  B0005</td>\n",
       "      <td>v1.0</td>\n",
       "    </tr>\n",
       "    <tr>\n",
       "      <th>3</th>\n",
       "      <td>3</td>\n",
       "      <td>4</td>\n",
       "      <td>CCAFS LC-40</td>\n",
       "      <td>Success</td>\n",
       "      <td>0</td>\n",
       "      <td>500.0</td>\n",
       "      <td>F9 v1.0  B0006</td>\n",
       "      <td>v1.0</td>\n",
       "    </tr>\n",
       "    <tr>\n",
       "      <th>4</th>\n",
       "      <td>4</td>\n",
       "      <td>5</td>\n",
       "      <td>CCAFS LC-40</td>\n",
       "      <td>Success</td>\n",
       "      <td>0</td>\n",
       "      <td>677.0</td>\n",
       "      <td>F9 v1.0  B0007</td>\n",
       "      <td>v1.0</td>\n",
       "    </tr>\n",
       "  </tbody>\n",
       "</table>\n",
       "</div>"
      ],
      "text/plain": [
       "   Unnamed: 0  Flight Number  Launch Site Mission Outcome  class  \\\n",
       "0           0              1  CCAFS LC-40         Success      0   \n",
       "1           1              2  CCAFS LC-40         Success      0   \n",
       "2           2              3  CCAFS LC-40         Success      0   \n",
       "3           3              4  CCAFS LC-40         Success      0   \n",
       "4           4              5  CCAFS LC-40         Success      0   \n",
       "\n",
       "   Payload Mass (kg) Booster Version Booster Version Category  \n",
       "0                0.0  F9 v1.0  B0003                     v1.0  \n",
       "1                0.0  F9 v1.0  B0004                     v1.0  \n",
       "2              525.0  F9 v1.0  B0005                     v1.0  \n",
       "3              500.0  F9 v1.0  B0006                     v1.0  \n",
       "4              677.0  F9 v1.0  B0007                     v1.0  "
      ]
     },
     "execution_count": 22,
     "metadata": {},
     "output_type": "execute_result"
    }
   ],
   "source": [
    "spacex_df.head(5)"
   ]
  },
  {
   "cell_type": "code",
   "execution_count": 45,
   "metadata": {},
   "outputs": [
    {
     "data": {
      "text/plain": [
       "{0: 0,\n",
       " 1000: 1000,\n",
       " 2000: 2000,\n",
       " 3000: 3000,\n",
       " 4000: 4000,\n",
       " 5000: 5000,\n",
       " 6000: 6000,\n",
       " 7000: 7000,\n",
       " 8000: 8000,\n",
       " 9000: 9000,\n",
       " 9600: 9600}"
      ]
     },
     "execution_count": 45,
     "metadata": {},
     "output_type": "execute_result"
    }
   ],
   "source": [
    "Marker_List = {0:0,1000:1000,2000:2000,3000:3000,4000:4000,5000:5000,6000:6000,7000:7000,8000:8000,9000:9000,9600:9600}\n",
    "Marker_List"
   ]
  },
  {
   "cell_type": "code",
   "execution_count": 33,
   "metadata": {},
   "outputs": [],
   "source": [
    "a_list = []\n",
    "d = {}\n",
    "i = 0\n",
    "for l in list_payload:\n",
    "    if (l not in d) and (l != '<'):\n",
    "        d[l] = i\n",
    "        i += 500"
   ]
  },
  {
   "cell_type": "code",
   "execution_count": 34,
   "metadata": {},
   "outputs": [
    {
     "data": {
      "text/plain": [
       "{0.0: 0,\n",
       " 525.0: 500,\n",
       " 500.0: 1000,\n",
       " 677.0: 1500,\n",
       " 3170.0: 2000,\n",
       " 3325.0: 2500,\n",
       " 2296.0: 3000,\n",
       " 1316.0: 3500,\n",
       " 4535.0: 4000,\n",
       " 4428.0: 4500,\n",
       " 2216.0: 5000,\n",
       " 2395.0: 5500,\n",
       " 570.0: 6000,\n",
       " 4159.0: 6500,\n",
       " 1898.0: 7000,\n",
       " 4707.0: 7500,\n",
       " 1952.0: 8000,\n",
       " 2034.0: 8500,\n",
       " 5271.0: 9000,\n",
       " 3136.0: 9500,\n",
       " 4696.0: 10000,\n",
       " 3100.0: 10500,\n",
       " 3600.0: 11000,\n",
       " 2257.0: 11500,\n",
       " 4600.0: 12000,\n",
       " 553.0: 12500,\n",
       " 9600.0: 13000,\n",
       " 475.0: 13500,\n",
       " 2150.0: 14000,\n",
       " 6460.0: 14500,\n",
       " 2490.0: 15000,\n",
       " 5600.0: 15500,\n",
       " 5300.0: 16000,\n",
       " 3696.65: 16500,\n",
       " 6070.0: 17000,\n",
       " 2708.0: 17500,\n",
       " 3669.0: 18000,\n",
       " 6761.0: 18500,\n",
       " 3310.0: 19000,\n",
       " 4990.0: 19500,\n",
       " 5200.0: 20000,\n",
       " 3500.0: 20500,\n",
       " 2205.0: 21000,\n",
       " 4230.0: 21500,\n",
       " 6092.0: 22000,\n",
       " 2647.0: 22500,\n",
       " 362.0: 23000,\n",
       " 5384.0: 23500}"
      ]
     },
     "execution_count": 34,
     "metadata": {},
     "output_type": "execute_result"
    }
   ],
   "source": [
    "d"
   ]
  },
  {
   "cell_type": "code",
   "execution_count": 42,
   "metadata": {},
   "outputs": [
    {
     "name": "stdout",
     "output_type": "stream",
     "text": [
      "{0: 500, 1: 501, 2: 502, 3: 503, 4: 504, 5: 505, 6: 506, 7: 507, 8: 508, 9: 509, 10: 510, 11: 511, 12: 512, 13: 513, 14: 514, 15: 515, 16: 516, 17: 517, 18: 518, 19: 519, 20: 520, 21: 521, 22: 522, 23: 523, 24: 524, 25: 525, 26: 526, 27: 527, 28: 528, 29: 529, 30: 530, 31: 531, 32: 532, 33: 533, 34: 534, 35: 535, 36: 536, 37: 537, 38: 538, 39: 539, 40: 540, 41: 541, 42: 542, 43: 543, 44: 544, 45: 545, 46: 546, 47: 547, 48: 548, 49: 549, 50: 550, 51: 551, 52: 552, 53: 553, 54: 554, 55: 555, 56: 556, 57: 557, 58: 558, 59: 559, 60: 560, 61: 561, 62: 562, 63: 563, 64: 564, 65: 565, 66: 566, 67: 567, 68: 568, 69: 569, 70: 570, 71: 571, 72: 572, 73: 573, 74: 574, 75: 575, 76: 576, 77: 577, 78: 578, 79: 579, 80: 580, 81: 581, 82: 582, 83: 583, 84: 584, 85: 585, 86: 586, 87: 587, 88: 588, 89: 589, 90: 590, 91: 591, 92: 592, 93: 593, 94: 594, 95: 595, 96: 596, 97: 597, 98: 598, 99: 599, 100: 600, 101: 601, 102: 602, 103: 603, 104: 604, 105: 605, 106: 606, 107: 607, 108: 608, 109: 609, 110: 610, 111: 611, 112: 612, 113: 613, 114: 614, 115: 615, 116: 616, 117: 617, 118: 618, 119: 619, 120: 620, 121: 621, 122: 622, 123: 623, 124: 624, 125: 625, 126: 626, 127: 627, 128: 628, 129: 629, 130: 630, 131: 631, 132: 632, 133: 633, 134: 634, 135: 635, 136: 636, 137: 637, 138: 638, 139: 639, 140: 640, 141: 641, 142: 642, 143: 643, 144: 644, 145: 645, 146: 646, 147: 647, 148: 648, 149: 649, 150: 650, 151: 651, 152: 652, 153: 653, 154: 654, 155: 655, 156: 656, 157: 657, 158: 658, 159: 659, 160: 660, 161: 661, 162: 662, 163: 663, 164: 664, 165: 665, 166: 666, 167: 667, 168: 668, 169: 669, 170: 670, 171: 671, 172: 672, 173: 673, 174: 674, 175: 675, 176: 676, 177: 677, 178: 678, 179: 679, 180: 680, 181: 681, 182: 682, 183: 683, 184: 684, 185: 685, 186: 686, 187: 687, 188: 688, 189: 689, 190: 690, 191: 691, 192: 692, 193: 693, 194: 694, 195: 695, 196: 696, 197: 697, 198: 698, 199: 699, 200: 700, 201: 701, 202: 702, 203: 703, 204: 704, 205: 705, 206: 706, 207: 707, 208: 708, 209: 709, 210: 710, 211: 711, 212: 712, 213: 713, 214: 714, 215: 715, 216: 716, 217: 717, 218: 718, 219: 719, 220: 720, 221: 721, 222: 722, 223: 723, 224: 724, 225: 725, 226: 726, 227: 727, 228: 728, 229: 729, 230: 730, 231: 731, 232: 732, 233: 733, 234: 734, 235: 735, 236: 736, 237: 737, 238: 738, 239: 739, 240: 740, 241: 741, 242: 742, 243: 743, 244: 744, 245: 745, 246: 746, 247: 747, 248: 748, 249: 749, 250: 750, 251: 751, 252: 752, 253: 753, 254: 754, 255: 755, 256: 756, 257: 757, 258: 758, 259: 759, 260: 760, 261: 761, 262: 762, 263: 763, 264: 764, 265: 765, 266: 766, 267: 767, 268: 768, 269: 769, 270: 770, 271: 771, 272: 772, 273: 773, 274: 774, 275: 775, 276: 776, 277: 777, 278: 778, 279: 779, 280: 780, 281: 781, 282: 782, 283: 783, 284: 784, 285: 785, 286: 786, 287: 787, 288: 788, 289: 789, 290: 790, 291: 791, 292: 792, 293: 793, 294: 794, 295: 795, 296: 796, 297: 797, 298: 798, 299: 799, 300: 800, 301: 801, 302: 802, 303: 803, 304: 804, 305: 805, 306: 806, 307: 807, 308: 808, 309: 809, 310: 810, 311: 811, 312: 812, 313: 813, 314: 814, 315: 815, 316: 816, 317: 817, 318: 818, 319: 819, 320: 820, 321: 821, 322: 822, 323: 823, 324: 824, 325: 825, 326: 826, 327: 827, 328: 828, 329: 829, 330: 830, 331: 831, 332: 832, 333: 833, 334: 834, 335: 835, 336: 836, 337: 837, 338: 838, 339: 839, 340: 840, 341: 841, 342: 842, 343: 843, 344: 844, 345: 845, 346: 846, 347: 847, 348: 848, 349: 849, 350: 850, 351: 851, 352: 852, 353: 853, 354: 854, 355: 855, 356: 856, 357: 857, 358: 858, 359: 859, 360: 860, 361: 861, 362: 862, 363: 863, 364: 864, 365: 865, 366: 866, 367: 867, 368: 868, 369: 869, 370: 870, 371: 871, 372: 872, 373: 873, 374: 874, 375: 875, 376: 876, 377: 877, 378: 878, 379: 879, 380: 880, 381: 881, 382: 882, 383: 883, 384: 884, 385: 885, 386: 886, 387: 887, 388: 888, 389: 889, 390: 890, 391: 891, 392: 892, 393: 893, 394: 894, 395: 895, 396: 896, 397: 897, 398: 898, 399: 899, 400: 900, 401: 901, 402: 902, 403: 903, 404: 904, 405: 905, 406: 906, 407: 907, 408: 908, 409: 909, 410: 910, 411: 911, 412: 912, 413: 913, 414: 914, 415: 915, 416: 916, 417: 917, 418: 918, 419: 919, 420: 920, 421: 921, 422: 922, 423: 923, 424: 924, 425: 925, 426: 926, 427: 927, 428: 928, 429: 929, 430: 930, 431: 931, 432: 932, 433: 933, 434: 934, 435: 935, 436: 936, 437: 937, 438: 938, 439: 939, 440: 940, 441: 941, 442: 942, 443: 943, 444: 944, 445: 945, 446: 946, 447: 947, 448: 948, 449: 949, 450: 950, 451: 951, 452: 952, 453: 953, 454: 954, 455: 955, 456: 956, 457: 957, 458: 958, 459: 959, 460: 960, 461: 961, 462: 962, 463: 963, 464: 964, 465: 965, 466: 966, 467: 967, 468: 968, 469: 969, 470: 970, 471: 971, 472: 972, 473: 973, 474: 974, 475: 975, 476: 976, 477: 977, 478: 978, 479: 979, 480: 980, 481: 981, 482: 982, 483: 983, 484: 984, 485: 985, 486: 986, 487: 987, 488: 988, 489: 989, 490: 990, 491: 991, 492: 992, 493: 993, 494: 994, 495: 995, 496: 996, 497: 997, 498: 998, 499: 999, 500: 1000, 501: 1001, 502: 1002, 503: 1003, 504: 1004, 505: 1005, 506: 1006, 507: 1007, 508: 1008, 509: 1009, 510: 1010, 511: 1011, 512: 1012, 513: 1013, 514: 1014, 515: 1015, 516: 1016, 517: 1017, 518: 1018, 519: 1019, 520: 1020, 521: 1021, 522: 1022, 523: 1023, 524: 1024, 525: 1025, 526: 1026, 527: 1027, 528: 1028, 529: 1029, 530: 1030, 531: 1031, 532: 1032, 533: 1033, 534: 1034, 535: 1035, 536: 1036, 537: 1037, 538: 1038, 539: 1039, 540: 1040, 541: 1041, 542: 1042, 543: 1043, 544: 1044, 545: 1045, 546: 1046, 547: 1047, 548: 1048, 549: 1049, 550: 1050, 551: 1051, 552: 1052, 553: 1053, 554: 1054, 555: 1055, 556: 1056, 557: 1057, 558: 1058, 559: 1059, 560: 1060, 561: 1061, 562: 1062, 563: 1063, 564: 1064, 565: 1065, 566: 1066, 567: 1067, 568: 1068, 569: 1069, 570: 1070, 571: 1071, 572: 1072, 573: 1073, 574: 1074, 575: 1075, 576: 1076, 577: 1077, 578: 1078, 579: 1079, 580: 1080, 581: 1081, 582: 1082, 583: 1083, 584: 1084, 585: 1085, 586: 1086, 587: 1087, 588: 1088, 589: 1089, 590: 1090, 591: 1091, 592: 1092, 593: 1093, 594: 1094, 595: 1095, 596: 1096, 597: 1097, 598: 1098, 599: 1099, 600: 1100, 601: 1101, 602: 1102, 603: 1103, 604: 1104, 605: 1105, 606: 1106, 607: 1107, 608: 1108, 609: 1109, 610: 1110, 611: 1111, 612: 1112, 613: 1113, 614: 1114, 615: 1115, 616: 1116, 617: 1117, 618: 1118, 619: 1119, 620: 1120, 621: 1121, 622: 1122, 623: 1123, 624: 1124, 625: 1125, 626: 1126, 627: 1127, 628: 1128, 629: 1129, 630: 1130, 631: 1131, 632: 1132, 633: 1133, 634: 1134, 635: 1135, 636: 1136, 637: 1137, 638: 1138, 639: 1139, 640: 1140, 641: 1141, 642: 1142, 643: 1143, 644: 1144, 645: 1145, 646: 1146, 647: 1147, 648: 1148, 649: 1149, 650: 1150, 651: 1151, 652: 1152, 653: 1153, 654: 1154, 655: 1155, 656: 1156, 657: 1157, 658: 1158, 659: 1159, 660: 1160, 661: 1161, 662: 1162, 663: 1163, 664: 1164, 665: 1165, 666: 1166, 667: 1167, 668: 1168, 669: 1169, 670: 1170, 671: 1171, 672: 1172, 673: 1173, 674: 1174, 675: 1175, 676: 1176, 677: 1177, 678: 1178, 679: 1179, 680: 1180, 681: 1181, 682: 1182, 683: 1183, 684: 1184, 685: 1185, 686: 1186, 687: 1187, 688: 1188, 689: 1189, 690: 1190, 691: 1191, 692: 1192, 693: 1193, 694: 1194, 695: 1195, 696: 1196, 697: 1197, 698: 1198, 699: 1199, 700: 1200, 701: 1201, 702: 1202, 703: 1203, 704: 1204, 705: 1205, 706: 1206, 707: 1207, 708: 1208, 709: 1209, 710: 1210, 711: 1211, 712: 1212, 713: 1213, 714: 1214, 715: 1215, 716: 1216, 717: 1217, 718: 1218, 719: 1219, 720: 1220, 721: 1221, 722: 1222, 723: 1223, 724: 1224, 725: 1225, 726: 1226, 727: 1227, 728: 1228, 729: 1229, 730: 1230, 731: 1231, 732: 1232, 733: 1233, 734: 1234, 735: 1235, 736: 1236, 737: 1237, 738: 1238, 739: 1239, 740: 1240, 741: 1241, 742: 1242, 743: 1243, 744: 1244, 745: 1245, 746: 1246, 747: 1247, 748: 1248, 749: 1249, 750: 1250, 751: 1251, 752: 1252, 753: 1253, 754: 1254, 755: 1255, 756: 1256, 757: 1257, 758: 1258, 759: 1259, 760: 1260, 761: 1261, 762: 1262, 763: 1263, 764: 1264, 765: 1265, 766: 1266, 767: 1267, 768: 1268, 769: 1269, 770: 1270, 771: 1271, 772: 1272, 773: 1273, 774: 1274, 775: 1275, 776: 1276, 777: 1277, 778: 1278, 779: 1279, 780: 1280, 781: 1281, 782: 1282, 783: 1283, 784: 1284, 785: 1285, 786: 1286, 787: 1287, 788: 1288, 789: 1289, 790: 1290, 791: 1291, 792: 1292, 793: 1293, 794: 1294, 795: 1295, 796: 1296, 797: 1297, 798: 1298, 799: 1299, 800: 1300, 801: 1301, 802: 1302, 803: 1303, 804: 1304, 805: 1305, 806: 1306, 807: 1307, 808: 1308, 809: 1309, 810: 1310, 811: 1311, 812: 1312, 813: 1313, 814: 1314, 815: 1315, 816: 1316, 817: 1317, 818: 1318, 819: 1319, 820: 1320, 821: 1321, 822: 1322, 823: 1323, 824: 1324, 825: 1325, 826: 1326, 827: 1327, 828: 1328, 829: 1329, 830: 1330, 831: 1331, 832: 1332, 833: 1333, 834: 1334, 835: 1335, 836: 1336, 837: 1337, 838: 1338, 839: 1339, 840: 1340, 841: 1341, 842: 1342, 843: 1343, 844: 1344, 845: 1345, 846: 1346, 847: 1347, 848: 1348, 849: 1349, 850: 1350, 851: 1351, 852: 1352, 853: 1353, 854: 1354, 855: 1355, 856: 1356, 857: 1357, 858: 1358, 859: 1359, 860: 1360, 861: 1361, 862: 1362, 863: 1363, 864: 1364, 865: 1365, 866: 1366, 867: 1367, 868: 1368, 869: 1369, 870: 1370, 871: 1371, 872: 1372, 873: 1373, 874: 1374, 875: 1375, 876: 1376, 877: 1377, 878: 1378, 879: 1379, 880: 1380, 881: 1381, 882: 1382, 883: 1383, 884: 1384, 885: 1385, 886: 1386, 887: 1387, 888: 1388, 889: 1389, 890: 1390, 891: 1391, 892: 1392, 893: 1393, 894: 1394, 895: 1395, 896: 1396, 897: 1397, 898: 1398, 899: 1399, 900: 1400, 901: 1401, 902: 1402, 903: 1403, 904: 1404, 905: 1405, 906: 1406, 907: 1407, 908: 1408, 909: 1409, 910: 1410, 911: 1411, 912: 1412, 913: 1413, 914: 1414, 915: 1415, 916: 1416, 917: 1417, 918: 1418, 919: 1419, 920: 1420, 921: 1421, 922: 1422, 923: 1423, 924: 1424, 925: 1425, 926: 1426, 927: 1427, 928: 1428, 929: 1429, 930: 1430, 931: 1431, 932: 1432, 933: 1433, 934: 1434, 935: 1435, 936: 1436, 937: 1437, 938: 1438, 939: 1439, 940: 1440, 941: 1441, 942: 1442, 943: 1443, 944: 1444, 945: 1445, 946: 1446, 947: 1447, 948: 1448, 949: 1449, 950: 1450, 951: 1451, 952: 1452, 953: 1453, 954: 1454, 955: 1455, 956: 1456, 957: 1457, 958: 1458, 959: 1459, 960: 1460, 961: 1461, 962: 1462, 963: 1463, 964: 1464, 965: 1465, 966: 1466, 967: 1467, 968: 1468, 969: 1469, 970: 1470, 971: 1471, 972: 1472, 973: 1473, 974: 1474, 975: 1475, 976: 1476, 977: 1477, 978: 1478, 979: 1479, 980: 1480, 981: 1481, 982: 1482, 983: 1483, 984: 1484, 985: 1485, 986: 1486, 987: 1487, 988: 1488, 989: 1489, 990: 1490, 991: 1491, 992: 1492, 993: 1493, 994: 1494, 995: 1495, 996: 1496, 997: 1497, 998: 1498, 999: 1499}\n"
     ]
    }
   ],
   "source": [
    "n = 500\n",
    "ans = {i : i+500 for i in range(0,n+500)}\n",
    "print(ans)"
   ]
  },
  {
   "cell_type": "code",
   "execution_count": null,
   "metadata": {},
   "outputs": [],
   "source": []
  }
 ],
 "metadata": {
  "kernelspec": {
   "display_name": "Python 3",
   "language": "python",
   "name": "python3"
  },
  "language_info": {
   "codemirror_mode": {
    "name": "ipython",
    "version": 3
   },
   "file_extension": ".py",
   "mimetype": "text/x-python",
   "name": "python",
   "nbconvert_exporter": "python",
   "pygments_lexer": "ipython3",
   "version": "3.6.9"
  }
 },
 "nbformat": 4,
 "nbformat_minor": 2
}
